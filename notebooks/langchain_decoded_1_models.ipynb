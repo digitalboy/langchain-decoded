{
  "cells": [
    {
      "attachments": {},
      "cell_type": "markdown",
      "metadata": {
        "id": "JQxt18IfZR40"
      },
      "source": [
        "# **LangChain 学习笔记**"
      ]
    },
    {
      "cell_type": "markdown",
      "metadata": {
        "id": "zgFXxUsp5pbu"
      },
      "source": [
        "## Getting Started"
      ]
    },
    {
      "cell_type": "code",
      "execution_count": null,
      "metadata": {
        "id": "fRUe2wO95xoR"
      },
      "outputs": [],
      "source": [
        "# Install the LangChain package\n",
        "!pip install langchain"
      ]
    },
    {
      "cell_type": "code",
      "execution_count": null,
      "metadata": {
        "id": "T7TwICBe9yy4"
      },
      "outputs": [],
      "source": [
        "# Install the OpenAI package\n",
        "!pip install openai"
      ]
    },
    {
      "cell_type": "code",
      "execution_count": null,
      "metadata": {
        "id": "I-ZUDlva6m3Y"
      },
      "outputs": [],
      "source": [
        "# Configure the API key\n",
        "import os\n",
        "\n",
        "openai_api_key = os.environ.get('OPENAI_API_KEY', 'sk-XXX')"
      ]
    },
    {
      "cell_type": "markdown",
      "metadata": {
        "id": "d_YGHcob5Rhs"
      },
      "source": [
        "## Part 1: Models"
      ]
    },
    {
      "cell_type": "markdown",
      "metadata": {
        "id": "3MvgsUgi-yQD"
      },
      "source": [
        "### Large Language Models (LLMs)"
      ]
    },
    {
      "cell_type": "code",
      "execution_count": null,
      "metadata": {
        "id": "9gqrb7Rh53uF"
      },
      "outputs": [],
      "source": [
        "# Use the OpenAI LLM wrapper and text-davinci-003 model\n",
        "from langchain.llms import OpenAI\n",
        "\n",
        "llm = OpenAI(model_name=\"text-davinci-003\", openai_api_key=openai_api_key)"
      ]
    },
    {
      "cell_type": "code",
      "execution_count": null,
      "metadata": {
        "id": "1oQ3UzyEAnsL"
      },
      "outputs": [],
      "source": [
        "# Generate a simple text response\n",
        "llm(\"Why is the sky blue?\")"
      ]
    },
    {
      "cell_type": "code",
      "execution_count": null,
      "metadata": {
        "id": "wpYhYbKOC1_L"
      },
      "outputs": [],
      "source": [
        "# Show the generation output instead\n",
        "llm_result = llm.generate([\"Why is the sky blue?\"])\n",
        "llm_result.llm_output"
      ]
    },
    {
      "cell_type": "code",
      "execution_count": null,
      "metadata": {
        "id": "LsE4Euf2DeW9"
      },
      "outputs": [],
      "source": [
        "# Track OpenAI token usage for a single API call\n",
        "from langchain.callbacks import get_openai_callback\n",
        "\n",
        "with get_openai_callback() as cb:\n",
        "    result = llm(\"Why is the sky blue?\")\n",
        "\n",
        "    print(f\"Total Tokens: {cb.total_tokens}\")\n",
        "    print(f\"\\tPrompt Tokens: {cb.prompt_tokens}\")\n",
        "    print(f\"\\tCompletion Tokens: {cb.completion_tokens}\")\n",
        "    print(f\"Total Cost (USD): ${cb.total_cost}\")"
      ]
    },
    {
      "cell_type": "markdown",
      "metadata": {
        "id": "vpCYayVyWqyr"
      },
      "source": [
        "### Chat Models"
      ]
    },
    {
      "cell_type": "code",
      "execution_count": null,
      "metadata": {
        "id": "Bm_9BTO1Wsz4"
      },
      "outputs": [],
      "source": [
        "# Define system message for the chatbot, and pass human message\n",
        "from langchain.chat_models import ChatOpenAI\n",
        "from langchain.schema import (\n",
        "    AIMessage,\n",
        "    HumanMessage,\n",
        "    SystemMessage\n",
        ")\n",
        "\n",
        "chat = ChatOpenAI(temperature=0, openai_api_key=openai_api_key)\n",
        "\n",
        "messages = [\n",
        "    SystemMessage(content=\"You are a helpful assistant that translates English to Spanish.\"),\n",
        "    HumanMessage(content=\"Translate this sentence from English to Spanish. I'm hungry, give me food.\")\n",
        "]\n",
        "\n",
        "chat(messages)"
      ]
    }
  ],
  "metadata": {
    "colab": {
      "provenance": []
    },
    "kernelspec": {
      "display_name": "Python 3",
      "name": "python3"
    },
    "language_info": {
      "name": "python",
      "version": "3.11.3"
    }
  },
  "nbformat": 4,
  "nbformat_minor": 0
}
