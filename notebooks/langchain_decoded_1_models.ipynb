{
  "cells": [
    {
      "attachments": {},
      "cell_type": "markdown",
      "metadata": {
        "id": "JQxt18IfZR40"
      },
      "source": [
        "# **LangChain 学习笔记**"
      ]
    },
    {
      "attachments": {},
      "cell_type": "markdown",
      "metadata": {
        "id": "zgFXxUsp5pbu"
      },
      "source": [
        "## 开整吧~~"
      ]
    },
    {
      "cell_type": "code",
      "execution_count": null,
      "metadata": {
        "id": "fRUe2wO95xoR"
      },
      "outputs": [],
      "source": [
        "# 装个包吧 \n",
        "!pip install langchain"
      ]
    },
    {
      "cell_type": "code",
      "execution_count": null,
      "metadata": {
        "id": "T7TwICBe9yy4"
      },
      "outputs": [],
      "source": [
        "# 装个开放的爱的包\n",
        "!pip install openai"
      ]
    },
    {
      "cell_type": "code",
      "execution_count": null,
      "metadata": {
        "id": "I-ZUDlva6m3Y"
      },
      "outputs": [],
      "source": [
        "# 请配置爱的秘密\n",
        "import os\n",
        "\n",
        "openai_api_key = os.environ.get('OPENAI_API_KEY', 'sk-XXX')"
      ]
    },
    {
      "attachments": {},
      "cell_type": "markdown",
      "metadata": {
        "id": "d_YGHcob5Rhs"
      },
      "source": [
        "## 第一部分: 啥叫模式（Models）"
      ]
    },
    {
      "attachments": {},
      "cell_type": "markdown",
      "metadata": {
        "id": "3MvgsUgi-yQD"
      },
      "source": [
        "### 来了吗模式 (LLMs)"
      ]
    },
    {
      "cell_type": "code",
      "execution_count": null,
      "metadata": {
        "id": "9gqrb7Rh53uF"
      },
      "outputs": [],
      "source": [
        "# 用狼链子包装后的爱\n",
        "from langchain.llms import OpenAI\n",
        "\n",
        "llm = OpenAI(model_name=\"text-davinci-003\", openai_api_key=openai_api_key)"
      ]
    },
    {
      "cell_type": "code",
      "execution_count": null,
      "metadata": {
        "id": "1oQ3UzyEAnsL"
      },
      "outputs": [],
      "source": [
        "# 问个高深的问题\n",
        "llm(\"为什么天空是蓝色的?\")"
      ]
    },
    {
      "cell_type": "code",
      "execution_count": null,
      "metadata": {
        "id": "wpYhYbKOC1_L"
      },
      "outputs": [],
      "source": [
        "# 看看花了多少个套肯\n",
        "llm_result = llm.generate([\"为什么天空是蓝色的?\"])\n",
        "llm_result.llm_output"
      ]
    },
    {
      "cell_type": "code",
      "execution_count": null,
      "metadata": {
        "id": "LsE4Euf2DeW9"
      },
      "outputs": [],
      "source": [
        "# 一次调用用了多少\n",
        "from langchain.callbacks import get_openai_callback\n",
        "\n",
        "with get_openai_callback() as cb:\n",
        "    result = llm(\"为什么天空是蓝色的?\")\n",
        "\n",
        "    print(f\"一共用了多少: {cb.total_tokens}\")\n",
        "    print(f\"\\t咒语用了多少: {cb.prompt_tokens}\")\n",
        "    print(f\"\\t这段问答用了多少: {cb.completion_tokens}\")\n",
        "    print(f\"花了多少钱？ (美刀): ${cb.total_cost}\")"
      ]
    },
    {
      "attachments": {},
      "cell_type": "markdown",
      "metadata": {
        "id": "vpCYayVyWqyr"
      },
      "source": [
        "### 唠嗑模式"
      ]
    },
    {
      "cell_type": "code",
      "execution_count": null,
      "metadata": {
        "id": "Bm_9BTO1Wsz4"
      },
      "outputs": [],
      "source": [
        "# 给他定义个角色，你再问他\n",
        "from langchain.chat_models import ChatOpenAI\n",
        "from langchain.schema import (\n",
        "    AIMessage,\n",
        "    HumanMessage,\n",
        "    SystemMessage\n",
        ")\n",
        "\n",
        "chat = ChatOpenAI(temperature=0, openai_api_key=openai_api_key)\n",
        "\n",
        "messages = [\n",
        "    SystemMessage(content=\"你是一个翻译，把中文翻译成英语，地道的加州腔。\"),# 定义机器人的角色和规范\n",
        "    HumanMessage(content=\"翻译这个句子：你好，我是一个外国人，不会说中文。\") #你问点啥\n",
        "]\n",
        "\n",
        "chat(messages)"
      ]
    }
  ],
  "metadata": {
    "colab": {
      "provenance": []
    },
    "kernelspec": {
      "display_name": "Python 3",
      "name": "python3"
    },
    "language_info": {
      "codemirror_mode": {
        "name": "ipython",
        "version": 3
      },
      "file_extension": ".py",
      "mimetype": "text/x-python",
      "name": "python",
      "nbconvert_exporter": "python",
      "pygments_lexer": "ipython3",
      "version": "3.11.3"
    }
  },
  "nbformat": 4,
  "nbformat_minor": 0
}
